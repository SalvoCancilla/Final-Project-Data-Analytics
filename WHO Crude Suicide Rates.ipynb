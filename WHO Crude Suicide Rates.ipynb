{
 "cells": [
  {
   "attachments": {},
   "cell_type": "markdown",
   "metadata": {},
   "source": [
    "# WHO Crude Suicide Rates (2000 - 2019)"
   ]
  },
  {
   "cell_type": "code",
   "execution_count": 14,
   "metadata": {},
   "outputs": [],
   "source": [
    "import pandas as pd\n",
    "import numpy as np\n",
    "\n",
    "import seaborn as sns"
   ]
  },
  {
   "cell_type": "code",
   "execution_count": 15,
   "metadata": {},
   "outputs": [],
   "source": [
    "df_raw=pd.read_csv(\"C:/Users/Lavoro/Desktop/Data/WHO Crude Suicide Rates.csv\")\n",
    "df=df_raw.copy()\n",
    "df.head()"
   ]
  },
  {
   "cell_type": "code",
   "execution_count": 17,
   "metadata": {},
   "outputs": [
    {
     "name": "stdout",
     "output_type": "stream",
     "text": [
      "<class 'pandas.core.frame.DataFrame'>\n",
      "RangeIndex: 17019 entries, 0 to 17018\n",
      "Data columns (total 12 columns):\n",
      " #   Column                                                          Non-Null Count  Dtype  \n",
      "---  ------                                                          --------------  -----  \n",
      " 0   WHO Region Code                                                 17019 non-null  object \n",
      " 1   WHO Region                                                      17019 non-null  object \n",
      " 2   Country Code                                                    17019 non-null  object \n",
      " 3   Country                                                         17019 non-null  object \n",
      " 4   Year                                                            17019 non-null  int64  \n",
      " 5   IsLatestYear                                                    17019 non-null  bool   \n",
      " 6   Sex                                                             17019 non-null  object \n",
      " 7   Age Group                                                       17019 non-null  object \n",
      " 8   Crude suicide rates (per 100 000 population) (numeric)          17019 non-null  float64\n",
      " 9   Crude suicide rates (per 100 000 population) (low estimation)   10980 non-null  float64\n",
      " 10  Crude suicide rates (per 100 000 population) (high estimation)  10980 non-null  float64\n",
      " 11  Crude suicide rates (per 100 000 population) (string)           17019 non-null  object \n",
      "dtypes: bool(1), float64(3), int64(1), object(7)\n",
      "memory usage: 1.4+ MB\n"
     ]
    }
   ],
   "source": [
    "df.info()"
   ]
  },
  {
   "cell_type": "code",
   "execution_count": 18,
   "metadata": {},
   "outputs": [
    {
     "data": {
      "text/plain": [
       "Index(['WHO Region Code', 'WHO Region', 'Country Code', 'Country', 'Year',\n",
       "       'IsLatestYear', 'Sex', 'Age Group',\n",
       "       'Crude suicide rates (per 100 000 population) (numeric)',\n",
       "       'Crude suicide rates (per 100 000 population) (low estimation)',\n",
       "       'Crude suicide rates (per 100 000 population) (high estimation)',\n",
       "       'Crude suicide rates (per 100 000 population) (string)'],\n",
       "      dtype='object')"
      ]
     },
     "execution_count": 18,
     "metadata": {},
     "output_type": "execute_result"
    }
   ],
   "source": [
    "df.columns"
   ]
  },
  {
   "cell_type": "code",
   "execution_count": 19,
   "metadata": {},
   "outputs": [],
   "source": [
    "# RINOMINO COLONNE\n",
    "df = df.rename(columns={'WHO Region Code': 'Region Code', 'WHO Region': 'Region','Crude suicide rates (per 100 000 population) (numeric)': 'Suicide Rates (numeric)',\n",
    "                        'Crude suicide rates (per 100 000 population) (low estimation)': 'Suicide Rates (low estimation)','Crude suicide rates (per 100 000 population) (high estimation)': 'Suicide Rates (high estimation)',\n",
    "                        'Crude suicide rates (per 100 000 population) (string)': 'Suicide Rates (string)'})"
   ]
  },
  {
   "cell_type": "code",
   "execution_count": 31,
   "metadata": {},
   "outputs": [
    {
     "ename": "KeyError",
     "evalue": "\"['Suicide Rates (string)', 'Country Code', 'Region Code', 'Crude suicide rates (per 100 000 population) (high estimation)', 'Crude suicide rates (per 100 000 population) (low estimation)'] not found in axis\"",
     "output_type": "error",
     "traceback": [
      "\u001b[1;31m---------------------------------------------------------------------------\u001b[0m",
      "\u001b[1;31mKeyError\u001b[0m                                  Traceback (most recent call last)",
      "\u001b[1;32m~\\AppData\\Local\\Temp\\ipykernel_12420\\2200806136.py\u001b[0m in \u001b[0;36m<module>\u001b[1;34m\u001b[0m\n\u001b[0;32m      1\u001b[0m \u001b[1;31m# ELIMINO LE COLONNE INUTILI\u001b[0m\u001b[1;33m\u001b[0m\u001b[1;33m\u001b[0m\u001b[0m\n\u001b[1;32m----> 2\u001b[1;33m \u001b[0mdf\u001b[0m \u001b[1;33m=\u001b[0m \u001b[0mdf\u001b[0m\u001b[1;33m.\u001b[0m\u001b[0mdrop\u001b[0m\u001b[1;33m(\u001b[0m\u001b[0mcolumns\u001b[0m\u001b[1;33m=\u001b[0m\u001b[1;33m[\u001b[0m\u001b[1;34m'Suicide Rates (string)'\u001b[0m\u001b[1;33m,\u001b[0m\u001b[1;34m'Country Code'\u001b[0m\u001b[1;33m,\u001b[0m\u001b[1;34m'Region Code'\u001b[0m\u001b[1;33m,\u001b[0m\u001b[1;34m'Crude suicide rates (per 100 000 population) (high estimation)'\u001b[0m\u001b[1;33m,\u001b[0m\u001b[1;34m'Crude suicide rates (per 100 000 population) (low estimation)'\u001b[0m\u001b[1;33m]\u001b[0m\u001b[1;33m)\u001b[0m\u001b[1;33m\u001b[0m\u001b[1;33m\u001b[0m\u001b[0m\n\u001b[0m",
      "\u001b[1;32mc:\\Users\\Lavoro\\anaconda3\\envs\\boolean\\lib\\site-packages\\pandas\\util\\_decorators.py\u001b[0m in \u001b[0;36mwrapper\u001b[1;34m(*args, **kwargs)\u001b[0m\n\u001b[0;32m    329\u001b[0m                     \u001b[0mstacklevel\u001b[0m\u001b[1;33m=\u001b[0m\u001b[0mfind_stack_level\u001b[0m\u001b[1;33m(\u001b[0m\u001b[1;33m)\u001b[0m\u001b[1;33m,\u001b[0m\u001b[1;33m\u001b[0m\u001b[1;33m\u001b[0m\u001b[0m\n\u001b[0;32m    330\u001b[0m                 )\n\u001b[1;32m--> 331\u001b[1;33m             \u001b[1;32mreturn\u001b[0m \u001b[0mfunc\u001b[0m\u001b[1;33m(\u001b[0m\u001b[1;33m*\u001b[0m\u001b[0margs\u001b[0m\u001b[1;33m,\u001b[0m \u001b[1;33m**\u001b[0m\u001b[0mkwargs\u001b[0m\u001b[1;33m)\u001b[0m\u001b[1;33m\u001b[0m\u001b[1;33m\u001b[0m\u001b[0m\n\u001b[0m\u001b[0;32m    332\u001b[0m \u001b[1;33m\u001b[0m\u001b[0m\n\u001b[0;32m    333\u001b[0m         \u001b[1;31m# error: \"Callable[[VarArg(Any), KwArg(Any)], Any]\" has no\u001b[0m\u001b[1;33m\u001b[0m\u001b[1;33m\u001b[0m\u001b[0m\n",
      "\u001b[1;32mc:\\Users\\Lavoro\\anaconda3\\envs\\boolean\\lib\\site-packages\\pandas\\core\\frame.py\u001b[0m in \u001b[0;36mdrop\u001b[1;34m(self, labels, axis, index, columns, level, inplace, errors)\u001b[0m\n\u001b[0;32m   5394\u001b[0m                 \u001b[0mweight\u001b[0m  \u001b[1;36m1.0\u001b[0m     \u001b[1;36m0.8\u001b[0m\u001b[1;33m\u001b[0m\u001b[1;33m\u001b[0m\u001b[0m\n\u001b[0;32m   5395\u001b[0m         \"\"\"\n\u001b[1;32m-> 5396\u001b[1;33m         return super().drop(\n\u001b[0m\u001b[0;32m   5397\u001b[0m             \u001b[0mlabels\u001b[0m\u001b[1;33m=\u001b[0m\u001b[0mlabels\u001b[0m\u001b[1;33m,\u001b[0m\u001b[1;33m\u001b[0m\u001b[1;33m\u001b[0m\u001b[0m\n\u001b[0;32m   5398\u001b[0m             \u001b[0maxis\u001b[0m\u001b[1;33m=\u001b[0m\u001b[0maxis\u001b[0m\u001b[1;33m,\u001b[0m\u001b[1;33m\u001b[0m\u001b[1;33m\u001b[0m\u001b[0m\n",
      "\u001b[1;32mc:\\Users\\Lavoro\\anaconda3\\envs\\boolean\\lib\\site-packages\\pandas\\util\\_decorators.py\u001b[0m in \u001b[0;36mwrapper\u001b[1;34m(*args, **kwargs)\u001b[0m\n\u001b[0;32m    329\u001b[0m                     \u001b[0mstacklevel\u001b[0m\u001b[1;33m=\u001b[0m\u001b[0mfind_stack_level\u001b[0m\u001b[1;33m(\u001b[0m\u001b[1;33m)\u001b[0m\u001b[1;33m,\u001b[0m\u001b[1;33m\u001b[0m\u001b[1;33m\u001b[0m\u001b[0m\n\u001b[0;32m    330\u001b[0m                 )\n\u001b[1;32m--> 331\u001b[1;33m             \u001b[1;32mreturn\u001b[0m \u001b[0mfunc\u001b[0m\u001b[1;33m(\u001b[0m\u001b[1;33m*\u001b[0m\u001b[0margs\u001b[0m\u001b[1;33m,\u001b[0m \u001b[1;33m**\u001b[0m\u001b[0mkwargs\u001b[0m\u001b[1;33m)\u001b[0m\u001b[1;33m\u001b[0m\u001b[1;33m\u001b[0m\u001b[0m\n\u001b[0m\u001b[0;32m    332\u001b[0m \u001b[1;33m\u001b[0m\u001b[0m\n\u001b[0;32m    333\u001b[0m         \u001b[1;31m# error: \"Callable[[VarArg(Any), KwArg(Any)], Any]\" has no\u001b[0m\u001b[1;33m\u001b[0m\u001b[1;33m\u001b[0m\u001b[0m\n",
      "\u001b[1;32mc:\\Users\\Lavoro\\anaconda3\\envs\\boolean\\lib\\site-packages\\pandas\\core\\generic.py\u001b[0m in \u001b[0;36mdrop\u001b[1;34m(self, labels, axis, index, columns, level, inplace, errors)\u001b[0m\n\u001b[0;32m   4503\u001b[0m         \u001b[1;32mfor\u001b[0m \u001b[0maxis\u001b[0m\u001b[1;33m,\u001b[0m \u001b[0mlabels\u001b[0m \u001b[1;32min\u001b[0m \u001b[0maxes\u001b[0m\u001b[1;33m.\u001b[0m\u001b[0mitems\u001b[0m\u001b[1;33m(\u001b[0m\u001b[1;33m)\u001b[0m\u001b[1;33m:\u001b[0m\u001b[1;33m\u001b[0m\u001b[1;33m\u001b[0m\u001b[0m\n\u001b[0;32m   4504\u001b[0m             \u001b[1;32mif\u001b[0m \u001b[0mlabels\u001b[0m \u001b[1;32mis\u001b[0m \u001b[1;32mnot\u001b[0m \u001b[1;32mNone\u001b[0m\u001b[1;33m:\u001b[0m\u001b[1;33m\u001b[0m\u001b[1;33m\u001b[0m\u001b[0m\n\u001b[1;32m-> 4505\u001b[1;33m                 \u001b[0mobj\u001b[0m \u001b[1;33m=\u001b[0m \u001b[0mobj\u001b[0m\u001b[1;33m.\u001b[0m\u001b[0m_drop_axis\u001b[0m\u001b[1;33m(\u001b[0m\u001b[0mlabels\u001b[0m\u001b[1;33m,\u001b[0m \u001b[0maxis\u001b[0m\u001b[1;33m,\u001b[0m \u001b[0mlevel\u001b[0m\u001b[1;33m=\u001b[0m\u001b[0mlevel\u001b[0m\u001b[1;33m,\u001b[0m \u001b[0merrors\u001b[0m\u001b[1;33m=\u001b[0m\u001b[0merrors\u001b[0m\u001b[1;33m)\u001b[0m\u001b[1;33m\u001b[0m\u001b[1;33m\u001b[0m\u001b[0m\n\u001b[0m\u001b[0;32m   4506\u001b[0m \u001b[1;33m\u001b[0m\u001b[0m\n\u001b[0;32m   4507\u001b[0m         \u001b[1;32mif\u001b[0m \u001b[0minplace\u001b[0m\u001b[1;33m:\u001b[0m\u001b[1;33m\u001b[0m\u001b[1;33m\u001b[0m\u001b[0m\n",
      "\u001b[1;32mc:\\Users\\Lavoro\\anaconda3\\envs\\boolean\\lib\\site-packages\\pandas\\core\\generic.py\u001b[0m in \u001b[0;36m_drop_axis\u001b[1;34m(self, labels, axis, level, errors, only_slice)\u001b[0m\n\u001b[0;32m   4544\u001b[0m                 \u001b[0mnew_axis\u001b[0m \u001b[1;33m=\u001b[0m \u001b[0maxis\u001b[0m\u001b[1;33m.\u001b[0m\u001b[0mdrop\u001b[0m\u001b[1;33m(\u001b[0m\u001b[0mlabels\u001b[0m\u001b[1;33m,\u001b[0m \u001b[0mlevel\u001b[0m\u001b[1;33m=\u001b[0m\u001b[0mlevel\u001b[0m\u001b[1;33m,\u001b[0m \u001b[0merrors\u001b[0m\u001b[1;33m=\u001b[0m\u001b[0merrors\u001b[0m\u001b[1;33m)\u001b[0m\u001b[1;33m\u001b[0m\u001b[1;33m\u001b[0m\u001b[0m\n\u001b[0;32m   4545\u001b[0m             \u001b[1;32melse\u001b[0m\u001b[1;33m:\u001b[0m\u001b[1;33m\u001b[0m\u001b[1;33m\u001b[0m\u001b[0m\n\u001b[1;32m-> 4546\u001b[1;33m                 \u001b[0mnew_axis\u001b[0m \u001b[1;33m=\u001b[0m \u001b[0maxis\u001b[0m\u001b[1;33m.\u001b[0m\u001b[0mdrop\u001b[0m\u001b[1;33m(\u001b[0m\u001b[0mlabels\u001b[0m\u001b[1;33m,\u001b[0m \u001b[0merrors\u001b[0m\u001b[1;33m=\u001b[0m\u001b[0merrors\u001b[0m\u001b[1;33m)\u001b[0m\u001b[1;33m\u001b[0m\u001b[1;33m\u001b[0m\u001b[0m\n\u001b[0m\u001b[0;32m   4547\u001b[0m             \u001b[0mindexer\u001b[0m \u001b[1;33m=\u001b[0m \u001b[0maxis\u001b[0m\u001b[1;33m.\u001b[0m\u001b[0mget_indexer\u001b[0m\u001b[1;33m(\u001b[0m\u001b[0mnew_axis\u001b[0m\u001b[1;33m)\u001b[0m\u001b[1;33m\u001b[0m\u001b[1;33m\u001b[0m\u001b[0m\n\u001b[0;32m   4548\u001b[0m \u001b[1;33m\u001b[0m\u001b[0m\n",
      "\u001b[1;32mc:\\Users\\Lavoro\\anaconda3\\envs\\boolean\\lib\\site-packages\\pandas\\core\\indexes\\base.py\u001b[0m in \u001b[0;36mdrop\u001b[1;34m(self, labels, errors)\u001b[0m\n\u001b[0;32m   6975\u001b[0m         \u001b[1;32mif\u001b[0m \u001b[0mmask\u001b[0m\u001b[1;33m.\u001b[0m\u001b[0many\u001b[0m\u001b[1;33m(\u001b[0m\u001b[1;33m)\u001b[0m\u001b[1;33m:\u001b[0m\u001b[1;33m\u001b[0m\u001b[1;33m\u001b[0m\u001b[0m\n\u001b[0;32m   6976\u001b[0m             \u001b[1;32mif\u001b[0m \u001b[0merrors\u001b[0m \u001b[1;33m!=\u001b[0m \u001b[1;34m\"ignore\"\u001b[0m\u001b[1;33m:\u001b[0m\u001b[1;33m\u001b[0m\u001b[1;33m\u001b[0m\u001b[0m\n\u001b[1;32m-> 6977\u001b[1;33m                 \u001b[1;32mraise\u001b[0m \u001b[0mKeyError\u001b[0m\u001b[1;33m(\u001b[0m\u001b[1;34mf\"{list(labels[mask])} not found in axis\"\u001b[0m\u001b[1;33m)\u001b[0m\u001b[1;33m\u001b[0m\u001b[1;33m\u001b[0m\u001b[0m\n\u001b[0m\u001b[0;32m   6978\u001b[0m             \u001b[0mindexer\u001b[0m \u001b[1;33m=\u001b[0m \u001b[0mindexer\u001b[0m\u001b[1;33m[\u001b[0m\u001b[1;33m~\u001b[0m\u001b[0mmask\u001b[0m\u001b[1;33m]\u001b[0m\u001b[1;33m\u001b[0m\u001b[1;33m\u001b[0m\u001b[0m\n\u001b[0;32m   6979\u001b[0m         \u001b[1;32mreturn\u001b[0m \u001b[0mself\u001b[0m\u001b[1;33m.\u001b[0m\u001b[0mdelete\u001b[0m\u001b[1;33m(\u001b[0m\u001b[0mindexer\u001b[0m\u001b[1;33m)\u001b[0m\u001b[1;33m\u001b[0m\u001b[1;33m\u001b[0m\u001b[0m\n",
      "\u001b[1;31mKeyError\u001b[0m: \"['Suicide Rates (string)', 'Country Code', 'Region Code', 'Crude suicide rates (per 100 000 population) (high estimation)', 'Crude suicide rates (per 100 000 population) (low estimation)'] not found in axis\""
     ]
    }
   ],
   "source": [
    "# ELIMINO LE COLONNE INUTILI\n",
    "df = df.drop(columns=['Suicide Rates (string)','Country Code','Region Code'])"
   ]
  },
  {
   "cell_type": "code",
   "execution_count": 30,
   "metadata": {},
   "outputs": [
    {
     "data": {
      "text/html": [
       "<div>\n",
       "<style scoped>\n",
       "    .dataframe tbody tr th:only-of-type {\n",
       "        vertical-align: middle;\n",
       "    }\n",
       "\n",
       "    .dataframe tbody tr th {\n",
       "        vertical-align: top;\n",
       "    }\n",
       "\n",
       "    .dataframe thead th {\n",
       "        text-align: right;\n",
       "    }\n",
       "</style>\n",
       "<table border=\"1\" class=\"dataframe\">\n",
       "  <thead>\n",
       "    <tr style=\"text-align: right;\">\n",
       "      <th></th>\n",
       "      <th>Region</th>\n",
       "      <th>Country</th>\n",
       "      <th>Year</th>\n",
       "      <th>IsLatestYear</th>\n",
       "      <th>Sex</th>\n",
       "      <th>Age Group</th>\n",
       "      <th>Suicide Rates (numeric)</th>\n",
       "      <th>Suicide Rates (low estimation)</th>\n",
       "      <th>Suicide Rates (high estimation)</th>\n",
       "    </tr>\n",
       "  </thead>\n",
       "  <tbody>\n",
       "    <tr>\n",
       "      <th>0</th>\n",
       "      <td>Americas</td>\n",
       "      <td>Antigua and Barbuda</td>\n",
       "      <td>2019-01-01</td>\n",
       "      <td>True</td>\n",
       "      <td>Both sexes</td>\n",
       "      <td>15-19 years</td>\n",
       "      <td>0.0</td>\n",
       "      <td>NaN</td>\n",
       "      <td>NaN</td>\n",
       "    </tr>\n",
       "    <tr>\n",
       "      <th>1</th>\n",
       "      <td>Americas</td>\n",
       "      <td>Antigua and Barbuda</td>\n",
       "      <td>2019-01-01</td>\n",
       "      <td>True</td>\n",
       "      <td>Both sexes</td>\n",
       "      <td>15-24 years</td>\n",
       "      <td>0.0</td>\n",
       "      <td>NaN</td>\n",
       "      <td>NaN</td>\n",
       "    </tr>\n",
       "    <tr>\n",
       "      <th>2</th>\n",
       "      <td>Americas</td>\n",
       "      <td>Antigua and Barbuda</td>\n",
       "      <td>2019-01-01</td>\n",
       "      <td>True</td>\n",
       "      <td>Both sexes</td>\n",
       "      <td>15-29  years</td>\n",
       "      <td>0.0</td>\n",
       "      <td>NaN</td>\n",
       "      <td>NaN</td>\n",
       "    </tr>\n",
       "    <tr>\n",
       "      <th>3</th>\n",
       "      <td>Americas</td>\n",
       "      <td>Antigua and Barbuda</td>\n",
       "      <td>2019-01-01</td>\n",
       "      <td>True</td>\n",
       "      <td>Both sexes</td>\n",
       "      <td>25-34 years</td>\n",
       "      <td>0.0</td>\n",
       "      <td>NaN</td>\n",
       "      <td>NaN</td>\n",
       "    </tr>\n",
       "    <tr>\n",
       "      <th>4</th>\n",
       "      <td>Americas</td>\n",
       "      <td>Antigua and Barbuda</td>\n",
       "      <td>2019-01-01</td>\n",
       "      <td>True</td>\n",
       "      <td>Both sexes</td>\n",
       "      <td>30-49 years</td>\n",
       "      <td>0.0</td>\n",
       "      <td>NaN</td>\n",
       "      <td>NaN</td>\n",
       "    </tr>\n",
       "  </tbody>\n",
       "</table>\n",
       "</div>"
      ],
      "text/plain": [
       "     Region              Country       Year  IsLatestYear         Sex  \\\n",
       "0  Americas  Antigua and Barbuda 2019-01-01          True  Both sexes   \n",
       "1  Americas  Antigua and Barbuda 2019-01-01          True  Both sexes   \n",
       "2  Americas  Antigua and Barbuda 2019-01-01          True  Both sexes   \n",
       "3  Americas  Antigua and Barbuda 2019-01-01          True  Both sexes   \n",
       "4  Americas  Antigua and Barbuda 2019-01-01          True  Both sexes   \n",
       "\n",
       "      Age Group  Suicide Rates (numeric)  Suicide Rates (low estimation)  \\\n",
       "0   15-19 years                      0.0                             NaN   \n",
       "1   15-24 years                      0.0                             NaN   \n",
       "2  15-29  years                      0.0                             NaN   \n",
       "3   25-34 years                      0.0                             NaN   \n",
       "4   30-49 years                      0.0                             NaN   \n",
       "\n",
       "   Suicide Rates (high estimation)  \n",
       "0                              NaN  \n",
       "1                              NaN  \n",
       "2                              NaN  \n",
       "3                              NaN  \n",
       "4                              NaN  "
      ]
     },
     "execution_count": 30,
     "metadata": {},
     "output_type": "execute_result"
    }
   ],
   "source": [
    "df.head()"
   ]
  },
  {
   "cell_type": "code",
   "execution_count": 22,
   "metadata": {},
   "outputs": [],
   "source": [
    "# DATATYPE DATETIME ALLA COLONNA YEAR\n",
    "df[\"Year\"]=pd.to_datetime(df[\"Year\"], format=\"%Y\")"
   ]
  },
  {
   "cell_type": "code",
   "execution_count": 23,
   "metadata": {},
   "outputs": [
    {
     "name": "stdout",
     "output_type": "stream",
     "text": [
      "<class 'pandas.core.frame.DataFrame'>\n",
      "RangeIndex: 17019 entries, 0 to 17018\n",
      "Data columns (total 9 columns):\n",
      " #   Column                           Non-Null Count  Dtype         \n",
      "---  ------                           --------------  -----         \n",
      " 0   Region                           17019 non-null  object        \n",
      " 1   Country                          17019 non-null  object        \n",
      " 2   Year                             17019 non-null  datetime64[ns]\n",
      " 3   IsLatestYear                     17019 non-null  bool          \n",
      " 4   Sex                              17019 non-null  object        \n",
      " 5   Age Group                        17019 non-null  object        \n",
      " 6   Suicide Rates (numeric)          17019 non-null  float64       \n",
      " 7   Suicide Rates (low estimation)   10980 non-null  float64       \n",
      " 8   Suicide Rates (high estimation)  10980 non-null  float64       \n",
      "dtypes: bool(1), datetime64[ns](1), float64(3), object(4)\n",
      "memory usage: 1.1+ MB\n"
     ]
    }
   ],
   "source": [
    "df.info()"
   ]
  },
  {
   "cell_type": "code",
   "execution_count": 24,
   "metadata": {},
   "outputs": [],
   "source": [
    "# PRENDO TUTTI I NAN E LI ASSEGNO A DF_NAN\n",
    "df_nan = df.loc[df.isna().any(axis=1)]\n"
   ]
  },
  {
   "cell_type": "code",
   "execution_count": 25,
   "metadata": {},
   "outputs": [
    {
     "data": {
      "text/plain": [
       "Region                                0\n",
       "Country                               0\n",
       "Year                                  0\n",
       "IsLatestYear                          0\n",
       "Sex                                   0\n",
       "Age Group                             0\n",
       "Suicide Rates (numeric)               0\n",
       "Suicide Rates (low estimation)     6039\n",
       "Suicide Rates (high estimation)    6039\n",
       "dtype: int64"
      ]
     },
     "execution_count": 25,
     "metadata": {},
     "output_type": "execute_result"
    }
   ],
   "source": [
    "# CONTO TUTTI I NAN\n",
    "df_nan.isnull().sum()"
   ]
  },
  {
   "cell_type": "code",
   "execution_count": 28,
   "metadata": {},
   "outputs": [
    {
     "data": {
      "text/plain": [
       "(17019, 9)"
      ]
     },
     "execution_count": 28,
     "metadata": {},
     "output_type": "execute_result"
    }
   ],
   "source": [
    "df.shape"
   ]
  },
  {
   "cell_type": "code",
   "execution_count": 26,
   "metadata": {},
   "outputs": [
    {
     "data": {
      "text/html": [
       "<div>\n",
       "<style scoped>\n",
       "    .dataframe tbody tr th:only-of-type {\n",
       "        vertical-align: middle;\n",
       "    }\n",
       "\n",
       "    .dataframe tbody tr th {\n",
       "        vertical-align: top;\n",
       "    }\n",
       "\n",
       "    .dataframe thead th {\n",
       "        text-align: right;\n",
       "    }\n",
       "</style>\n",
       "<table border=\"1\" class=\"dataframe\">\n",
       "  <thead>\n",
       "    <tr style=\"text-align: right;\">\n",
       "      <th></th>\n",
       "      <th>Region</th>\n",
       "      <th>Country</th>\n",
       "      <th>Year</th>\n",
       "      <th>IsLatestYear</th>\n",
       "      <th>Sex</th>\n",
       "      <th>Age Group</th>\n",
       "      <th>Suicide Rates (numeric)</th>\n",
       "      <th>Suicide Rates (low estimation)</th>\n",
       "      <th>Suicide Rates (high estimation)</th>\n",
       "    </tr>\n",
       "  </thead>\n",
       "  <tbody>\n",
       "    <tr>\n",
       "      <th>0</th>\n",
       "      <td>Americas</td>\n",
       "      <td>Antigua and Barbuda</td>\n",
       "      <td>2019-01-01</td>\n",
       "      <td>True</td>\n",
       "      <td>Both sexes</td>\n",
       "      <td>15-19 years</td>\n",
       "      <td>0.00</td>\n",
       "      <td>NaN</td>\n",
       "      <td>NaN</td>\n",
       "    </tr>\n",
       "    <tr>\n",
       "      <th>1</th>\n",
       "      <td>Americas</td>\n",
       "      <td>Antigua and Barbuda</td>\n",
       "      <td>2019-01-01</td>\n",
       "      <td>True</td>\n",
       "      <td>Both sexes</td>\n",
       "      <td>15-24 years</td>\n",
       "      <td>0.00</td>\n",
       "      <td>NaN</td>\n",
       "      <td>NaN</td>\n",
       "    </tr>\n",
       "    <tr>\n",
       "      <th>2</th>\n",
       "      <td>Americas</td>\n",
       "      <td>Antigua and Barbuda</td>\n",
       "      <td>2019-01-01</td>\n",
       "      <td>True</td>\n",
       "      <td>Both sexes</td>\n",
       "      <td>15-29  years</td>\n",
       "      <td>0.00</td>\n",
       "      <td>NaN</td>\n",
       "      <td>NaN</td>\n",
       "    </tr>\n",
       "    <tr>\n",
       "      <th>3</th>\n",
       "      <td>Americas</td>\n",
       "      <td>Antigua and Barbuda</td>\n",
       "      <td>2019-01-01</td>\n",
       "      <td>True</td>\n",
       "      <td>Both sexes</td>\n",
       "      <td>25-34 years</td>\n",
       "      <td>0.00</td>\n",
       "      <td>NaN</td>\n",
       "      <td>NaN</td>\n",
       "    </tr>\n",
       "    <tr>\n",
       "      <th>4</th>\n",
       "      <td>Americas</td>\n",
       "      <td>Antigua and Barbuda</td>\n",
       "      <td>2019-01-01</td>\n",
       "      <td>True</td>\n",
       "      <td>Both sexes</td>\n",
       "      <td>30-49 years</td>\n",
       "      <td>0.00</td>\n",
       "      <td>NaN</td>\n",
       "      <td>NaN</td>\n",
       "    </tr>\n",
       "    <tr>\n",
       "      <th>...</th>\n",
       "      <td>...</td>\n",
       "      <td>...</td>\n",
       "      <td>...</td>\n",
       "      <td>...</td>\n",
       "      <td>...</td>\n",
       "      <td>...</td>\n",
       "      <td>...</td>\n",
       "      <td>...</td>\n",
       "      <td>...</td>\n",
       "    </tr>\n",
       "    <tr>\n",
       "      <th>17014</th>\n",
       "      <td>Americas</td>\n",
       "      <td>Cuba</td>\n",
       "      <td>2000-01-01</td>\n",
       "      <td>False</td>\n",
       "      <td>Female</td>\n",
       "      <td>All Ages</td>\n",
       "      <td>9.84</td>\n",
       "      <td>8.47</td>\n",
       "      <td>11.36</td>\n",
       "    </tr>\n",
       "    <tr>\n",
       "      <th>17015</th>\n",
       "      <td>Eastern Mediterranean</td>\n",
       "      <td>Morocco</td>\n",
       "      <td>2000-01-01</td>\n",
       "      <td>False</td>\n",
       "      <td>Both sexes</td>\n",
       "      <td>All Ages</td>\n",
       "      <td>9.90</td>\n",
       "      <td>4.67</td>\n",
       "      <td>18.08</td>\n",
       "    </tr>\n",
       "    <tr>\n",
       "      <th>17016</th>\n",
       "      <td>Western Pacific</td>\n",
       "      <td>Kiribati</td>\n",
       "      <td>2000-01-01</td>\n",
       "      <td>False</td>\n",
       "      <td>Female</td>\n",
       "      <td>All Ages</td>\n",
       "      <td>9.94</td>\n",
       "      <td>6.13</td>\n",
       "      <td>15.08</td>\n",
       "    </tr>\n",
       "    <tr>\n",
       "      <th>17017</th>\n",
       "      <td>Western Pacific</td>\n",
       "      <td>Mongolia</td>\n",
       "      <td>2000-01-01</td>\n",
       "      <td>False</td>\n",
       "      <td>Female</td>\n",
       "      <td>All Ages</td>\n",
       "      <td>9.96</td>\n",
       "      <td>6.14</td>\n",
       "      <td>15.02</td>\n",
       "    </tr>\n",
       "    <tr>\n",
       "      <th>17018</th>\n",
       "      <td>Europe</td>\n",
       "      <td>Russian Federation</td>\n",
       "      <td>2000-01-01</td>\n",
       "      <td>False</td>\n",
       "      <td>Male</td>\n",
       "      <td>All Ages</td>\n",
       "      <td>96.67</td>\n",
       "      <td>94.11</td>\n",
       "      <td>99.09</td>\n",
       "    </tr>\n",
       "  </tbody>\n",
       "</table>\n",
       "<p>17019 rows × 9 columns</p>\n",
       "</div>"
      ],
      "text/plain": [
       "                      Region              Country       Year  IsLatestYear  \\\n",
       "0                   Americas  Antigua and Barbuda 2019-01-01          True   \n",
       "1                   Americas  Antigua and Barbuda 2019-01-01          True   \n",
       "2                   Americas  Antigua and Barbuda 2019-01-01          True   \n",
       "3                   Americas  Antigua and Barbuda 2019-01-01          True   \n",
       "4                   Americas  Antigua and Barbuda 2019-01-01          True   \n",
       "...                      ...                  ...        ...           ...   \n",
       "17014               Americas                 Cuba 2000-01-01         False   \n",
       "17015  Eastern Mediterranean              Morocco 2000-01-01         False   \n",
       "17016        Western Pacific             Kiribati 2000-01-01         False   \n",
       "17017        Western Pacific             Mongolia 2000-01-01         False   \n",
       "17018                 Europe   Russian Federation 2000-01-01         False   \n",
       "\n",
       "              Sex     Age Group  Suicide Rates (numeric)  \\\n",
       "0      Both sexes   15-19 years                     0.00   \n",
       "1      Both sexes   15-24 years                     0.00   \n",
       "2      Both sexes  15-29  years                     0.00   \n",
       "3      Both sexes   25-34 years                     0.00   \n",
       "4      Both sexes   30-49 years                     0.00   \n",
       "...           ...           ...                      ...   \n",
       "17014      Female      All Ages                     9.84   \n",
       "17015  Both sexes      All Ages                     9.90   \n",
       "17016      Female      All Ages                     9.94   \n",
       "17017      Female      All Ages                     9.96   \n",
       "17018        Male      All Ages                    96.67   \n",
       "\n",
       "       Suicide Rates (low estimation)  Suicide Rates (high estimation)  \n",
       "0                                 NaN                              NaN  \n",
       "1                                 NaN                              NaN  \n",
       "2                                 NaN                              NaN  \n",
       "3                                 NaN                              NaN  \n",
       "4                                 NaN                              NaN  \n",
       "...                               ...                              ...  \n",
       "17014                            8.47                            11.36  \n",
       "17015                            4.67                            18.08  \n",
       "17016                            6.13                            15.08  \n",
       "17017                            6.14                            15.02  \n",
       "17018                           94.11                            99.09  \n",
       "\n",
       "[17019 rows x 9 columns]"
      ]
     },
     "execution_count": 26,
     "metadata": {},
     "output_type": "execute_result"
    }
   ],
   "source": [
    "df"
   ]
  },
  {
   "cell_type": "code",
   "execution_count": 32,
   "metadata": {},
   "outputs": [],
   "source": [
    "df = df.drop(columns=['Suicide Rates (low estimation)',\t'Suicide Rates (high estimation)'])"
   ]
  },
  {
   "cell_type": "code",
   "execution_count": 34,
   "metadata": {},
   "outputs": [
    {
     "data": {
      "text/html": [
       "<div>\n",
       "<style scoped>\n",
       "    .dataframe tbody tr th:only-of-type {\n",
       "        vertical-align: middle;\n",
       "    }\n",
       "\n",
       "    .dataframe tbody tr th {\n",
       "        vertical-align: top;\n",
       "    }\n",
       "\n",
       "    .dataframe thead th {\n",
       "        text-align: right;\n",
       "    }\n",
       "</style>\n",
       "<table border=\"1\" class=\"dataframe\">\n",
       "  <thead>\n",
       "    <tr style=\"text-align: right;\">\n",
       "      <th></th>\n",
       "      <th>Region</th>\n",
       "      <th>Country</th>\n",
       "      <th>Year</th>\n",
       "      <th>IsLatestYear</th>\n",
       "      <th>Sex</th>\n",
       "      <th>Age Group</th>\n",
       "      <th>Suicide Rates (numeric)</th>\n",
       "    </tr>\n",
       "  </thead>\n",
       "  <tbody>\n",
       "    <tr>\n",
       "      <th>0</th>\n",
       "      <td>Americas</td>\n",
       "      <td>Antigua and Barbuda</td>\n",
       "      <td>2019-01-01</td>\n",
       "      <td>True</td>\n",
       "      <td>Both sexes</td>\n",
       "      <td>15-19 years</td>\n",
       "      <td>0.0</td>\n",
       "    </tr>\n",
       "    <tr>\n",
       "      <th>1</th>\n",
       "      <td>Americas</td>\n",
       "      <td>Antigua and Barbuda</td>\n",
       "      <td>2019-01-01</td>\n",
       "      <td>True</td>\n",
       "      <td>Both sexes</td>\n",
       "      <td>15-24 years</td>\n",
       "      <td>0.0</td>\n",
       "    </tr>\n",
       "    <tr>\n",
       "      <th>2</th>\n",
       "      <td>Americas</td>\n",
       "      <td>Antigua and Barbuda</td>\n",
       "      <td>2019-01-01</td>\n",
       "      <td>True</td>\n",
       "      <td>Both sexes</td>\n",
       "      <td>15-29  years</td>\n",
       "      <td>0.0</td>\n",
       "    </tr>\n",
       "    <tr>\n",
       "      <th>3</th>\n",
       "      <td>Americas</td>\n",
       "      <td>Antigua and Barbuda</td>\n",
       "      <td>2019-01-01</td>\n",
       "      <td>True</td>\n",
       "      <td>Both sexes</td>\n",
       "      <td>25-34 years</td>\n",
       "      <td>0.0</td>\n",
       "    </tr>\n",
       "    <tr>\n",
       "      <th>4</th>\n",
       "      <td>Americas</td>\n",
       "      <td>Antigua and Barbuda</td>\n",
       "      <td>2019-01-01</td>\n",
       "      <td>True</td>\n",
       "      <td>Both sexes</td>\n",
       "      <td>30-49 years</td>\n",
       "      <td>0.0</td>\n",
       "    </tr>\n",
       "  </tbody>\n",
       "</table>\n",
       "</div>"
      ],
      "text/plain": [
       "     Region              Country       Year  IsLatestYear         Sex  \\\n",
       "0  Americas  Antigua and Barbuda 2019-01-01          True  Both sexes   \n",
       "1  Americas  Antigua and Barbuda 2019-01-01          True  Both sexes   \n",
       "2  Americas  Antigua and Barbuda 2019-01-01          True  Both sexes   \n",
       "3  Americas  Antigua and Barbuda 2019-01-01          True  Both sexes   \n",
       "4  Americas  Antigua and Barbuda 2019-01-01          True  Both sexes   \n",
       "\n",
       "      Age Group  Suicide Rates (numeric)  \n",
       "0   15-19 years                      0.0  \n",
       "1   15-24 years                      0.0  \n",
       "2  15-29  years                      0.0  \n",
       "3   25-34 years                      0.0  \n",
       "4   30-49 years                      0.0  "
      ]
     },
     "execution_count": 34,
     "metadata": {},
     "output_type": "execute_result"
    }
   ],
   "source": [
    "df.head()"
   ]
  },
  {
   "cell_type": "code",
   "execution_count": null,
   "metadata": {},
   "outputs": [],
   "source": []
  }
 ],
 "metadata": {
  "kernelspec": {
   "display_name": "boolean",
   "language": "python",
   "name": "python3"
  },
  "language_info": {
   "codemirror_mode": {
    "name": "ipython",
    "version": 3
   },
   "file_extension": ".py",
   "mimetype": "text/x-python",
   "name": "python",
   "nbconvert_exporter": "python",
   "pygments_lexer": "ipython3",
   "version": "3.10.9"
  },
  "orig_nbformat": 4
 },
 "nbformat": 4,
 "nbformat_minor": 2
}
