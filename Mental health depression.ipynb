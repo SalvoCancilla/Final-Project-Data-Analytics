{
 "cells": [
  {
   "attachments": {},
   "cell_type": "markdown",
   "metadata": {},
   "source": [
    "# Mental health depression disorder (1990 - 2017)"
   ]
  },
  {
   "cell_type": "code",
   "execution_count": 1,
   "metadata": {},
   "outputs": [],
   "source": [
    "import pandas as pd\n",
    "import numpy as np\n",
    "\n",
    "import seaborn as sns"
   ]
  },
  {
   "cell_type": "code",
   "execution_count": 2,
   "metadata": {},
   "outputs": [
    {
     "name": "stderr",
     "output_type": "stream",
     "text": [
      "C:\\Users\\Lavoro\\AppData\\Local\\Temp\\ipykernel_7820\\3815285848.py:1: DtypeWarning: Columns (5,6) have mixed types. Specify dtype option on import or set low_memory=False.\n",
      "  df_raw=pd.read_csv(\"C:/Users/Lavoro/Desktop/Data/Mental health depression disorder.csv\")\n"
     ]
    },
    {
     "data": {
      "text/html": [
       "<div>\n",
       "<style scoped>\n",
       "    .dataframe tbody tr th:only-of-type {\n",
       "        vertical-align: middle;\n",
       "    }\n",
       "\n",
       "    .dataframe tbody tr th {\n",
       "        vertical-align: top;\n",
       "    }\n",
       "\n",
       "    .dataframe thead th {\n",
       "        text-align: right;\n",
       "    }\n",
       "</style>\n",
       "<table border=\"1\" class=\"dataframe\">\n",
       "  <thead>\n",
       "    <tr style=\"text-align: right;\">\n",
       "      <th></th>\n",
       "      <th>index</th>\n",
       "      <th>Entity</th>\n",
       "      <th>Code</th>\n",
       "      <th>Year</th>\n",
       "      <th>Schizophrenia (%)</th>\n",
       "      <th>Bipolar disorder (%)</th>\n",
       "      <th>Eating disorders (%)</th>\n",
       "      <th>Anxiety disorders (%)</th>\n",
       "      <th>Drug use disorders (%)</th>\n",
       "      <th>Depression (%)</th>\n",
       "      <th>Alcohol use disorders (%)</th>\n",
       "    </tr>\n",
       "  </thead>\n",
       "  <tbody>\n",
       "    <tr>\n",
       "      <th>0</th>\n",
       "      <td>0</td>\n",
       "      <td>Afghanistan</td>\n",
       "      <td>AFG</td>\n",
       "      <td>1990</td>\n",
       "      <td>0.16056</td>\n",
       "      <td>0.697779</td>\n",
       "      <td>0.101855</td>\n",
       "      <td>4.828830</td>\n",
       "      <td>1.677082</td>\n",
       "      <td>4.071831</td>\n",
       "      <td>0.672404</td>\n",
       "    </tr>\n",
       "    <tr>\n",
       "      <th>1</th>\n",
       "      <td>1</td>\n",
       "      <td>Afghanistan</td>\n",
       "      <td>AFG</td>\n",
       "      <td>1991</td>\n",
       "      <td>0.160312</td>\n",
       "      <td>0.697961</td>\n",
       "      <td>0.099313</td>\n",
       "      <td>4.829740</td>\n",
       "      <td>1.684746</td>\n",
       "      <td>4.079531</td>\n",
       "      <td>0.671768</td>\n",
       "    </tr>\n",
       "    <tr>\n",
       "      <th>2</th>\n",
       "      <td>2</td>\n",
       "      <td>Afghanistan</td>\n",
       "      <td>AFG</td>\n",
       "      <td>1992</td>\n",
       "      <td>0.160135</td>\n",
       "      <td>0.698107</td>\n",
       "      <td>0.096692</td>\n",
       "      <td>4.831108</td>\n",
       "      <td>1.694334</td>\n",
       "      <td>4.088358</td>\n",
       "      <td>0.670644</td>\n",
       "    </tr>\n",
       "    <tr>\n",
       "      <th>3</th>\n",
       "      <td>3</td>\n",
       "      <td>Afghanistan</td>\n",
       "      <td>AFG</td>\n",
       "      <td>1993</td>\n",
       "      <td>0.160037</td>\n",
       "      <td>0.698257</td>\n",
       "      <td>0.094336</td>\n",
       "      <td>4.830864</td>\n",
       "      <td>1.705320</td>\n",
       "      <td>4.096190</td>\n",
       "      <td>0.669738</td>\n",
       "    </tr>\n",
       "    <tr>\n",
       "      <th>4</th>\n",
       "      <td>4</td>\n",
       "      <td>Afghanistan</td>\n",
       "      <td>AFG</td>\n",
       "      <td>1994</td>\n",
       "      <td>0.160022</td>\n",
       "      <td>0.698469</td>\n",
       "      <td>0.092439</td>\n",
       "      <td>4.829423</td>\n",
       "      <td>1.716069</td>\n",
       "      <td>4.099582</td>\n",
       "      <td>0.669260</td>\n",
       "    </tr>\n",
       "  </tbody>\n",
       "</table>\n",
       "</div>"
      ],
      "text/plain": [
       "   index       Entity Code  Year Schizophrenia (%) Bipolar disorder (%)  \\\n",
       "0      0  Afghanistan  AFG  1990           0.16056             0.697779   \n",
       "1      1  Afghanistan  AFG  1991          0.160312             0.697961   \n",
       "2      2  Afghanistan  AFG  1992          0.160135             0.698107   \n",
       "3      3  Afghanistan  AFG  1993          0.160037             0.698257   \n",
       "4      4  Afghanistan  AFG  1994          0.160022             0.698469   \n",
       "\n",
       "  Eating disorders (%)  Anxiety disorders (%)  Drug use disorders (%)  \\\n",
       "0             0.101855               4.828830                1.677082   \n",
       "1             0.099313               4.829740                1.684746   \n",
       "2             0.096692               4.831108                1.694334   \n",
       "3             0.094336               4.830864                1.705320   \n",
       "4             0.092439               4.829423                1.716069   \n",
       "\n",
       "   Depression (%)  Alcohol use disorders (%)  \n",
       "0        4.071831                   0.672404  \n",
       "1        4.079531                   0.671768  \n",
       "2        4.088358                   0.670644  \n",
       "3        4.096190                   0.669738  \n",
       "4        4.099582                   0.669260  "
      ]
     },
     "execution_count": 2,
     "metadata": {},
     "output_type": "execute_result"
    }
   ],
   "source": [
    "df_raw=pd.read_csv(\"C:/Users/Lavoro/Desktop/Data/Mental health depression disorder.csv\")\n",
    "df=df_raw.copy()\n",
    "df.head()"
   ]
  },
  {
   "cell_type": "code",
   "execution_count": 3,
   "metadata": {},
   "outputs": [
    {
     "name": "stdout",
     "output_type": "stream",
     "text": [
      "<class 'pandas.core.frame.DataFrame'>\n",
      "RangeIndex: 108553 entries, 0 to 108552\n",
      "Data columns (total 11 columns):\n",
      " #   Column                     Non-Null Count   Dtype  \n",
      "---  ------                     --------------   -----  \n",
      " 0   index                      108553 non-null  int64  \n",
      " 1   Entity                     108553 non-null  object \n",
      " 2   Code                       103141 non-null  object \n",
      " 3   Year                       108553 non-null  object \n",
      " 4   Schizophrenia (%)          25875 non-null   object \n",
      " 5   Bipolar disorder (%)       19406 non-null   object \n",
      " 6   Eating disorders (%)       100236 non-null  object \n",
      " 7   Anxiety disorders (%)      6468 non-null    float64\n",
      " 8   Drug use disorders (%)     6468 non-null    float64\n",
      " 9   Depression (%)             6468 non-null    float64\n",
      " 10  Alcohol use disorders (%)  6468 non-null    float64\n",
      "dtypes: float64(4), int64(1), object(6)\n",
      "memory usage: 9.1+ MB\n"
     ]
    }
   ],
   "source": [
    "df.info()"
   ]
  },
  {
   "cell_type": "code",
   "execution_count": 4,
   "metadata": {},
   "outputs": [
    {
     "data": {
      "text/plain": [
       "index                             0\n",
       "Entity                            0\n",
       "Code                           5412\n",
       "Year                              0\n",
       "Schizophrenia (%)             82678\n",
       "Bipolar disorder (%)          89147\n",
       "Eating disorders (%)           8317\n",
       "Anxiety disorders (%)        102085\n",
       "Drug use disorders (%)       102085\n",
       "Depression (%)               102085\n",
       "Alcohol use disorders (%)    102085\n",
       "dtype: int64"
      ]
     },
     "execution_count": 4,
     "metadata": {},
     "output_type": "execute_result"
    }
   ],
   "source": [
    "df.isnull().sum()"
   ]
  },
  {
   "cell_type": "code",
   "execution_count": 7,
   "metadata": {},
   "outputs": [],
   "source": [
    "# RINOMINO COLONNE\n",
    "df = df.rename(columns={'Schizophrenia (%)': 'Schizophrenia','Bipolar disorder (%)': 'Bipolar disorder','Eating disorders (%)':'Eating disorders',\n",
    "                        'Anxiety disorders (%)':'Anxiety disorders','Drug use disorders (%)':'Drug use disorders','Depression (%)':'Depression',\n",
    "                        'Alcohol use disorders (%)':'Alcohol use disorders'})\n",
    "                         \n"
   ]
  },
  {
   "cell_type": "code",
   "execution_count": 8,
   "metadata": {},
   "outputs": [
    {
     "name": "stdout",
     "output_type": "stream",
     "text": [
      "<class 'pandas.core.frame.DataFrame'>\n",
      "RangeIndex: 108553 entries, 0 to 108552\n",
      "Data columns (total 11 columns):\n",
      " #   Column                 Non-Null Count   Dtype  \n",
      "---  ------                 --------------   -----  \n",
      " 0   index                  108553 non-null  int64  \n",
      " 1   Entity                 108553 non-null  object \n",
      " 2   Code                   103141 non-null  object \n",
      " 3   Year                   108553 non-null  object \n",
      " 4   Schizophrenia          25875 non-null   object \n",
      " 5   Bipolar disorder       19406 non-null   object \n",
      " 6   Eating disorders       100236 non-null  object \n",
      " 7   Anxiety disorders      6468 non-null    float64\n",
      " 8   Drug use disorders     6468 non-null    float64\n",
      " 9   Depression             6468 non-null    float64\n",
      " 10  Alcohol use disorders  6468 non-null    float64\n",
      "dtypes: float64(4), int64(1), object(6)\n",
      "memory usage: 9.1+ MB\n"
     ]
    }
   ],
   "source": [
    "df.info()"
   ]
  },
  {
   "cell_type": "code",
   "execution_count": null,
   "metadata": {},
   "outputs": [],
   "source": [
    "from wordcloud import WordCloud\n",
    "import numpy as np \n",
    "import pandas as pd\n",
    "from sklearn.model_selection import train_test_split\n",
    "!pip install neattext\n",
    "import neattext.functions as nfx\n",
    "import matplotlib.pyplot as plt\n",
    "import plotly.express as plx\n",
    "from sklearn.metrics import classification_report\n",
    "import keras\n",
    "from keras.layers import Embedding,Dense,LSTM,Bidirectional,GlobalMaxPooling1D,Input,Dropout\n",
    "from keras.callbacks import EarlyStopping,ReduceLROnPlateau\n",
    "from keras.models import Sequential\n",
    "import\n",
    "def clean_text(text):\n",
    "    text_length=[]\n",
    "    cleaned_text=[]\n",
    "    for sent in tqdm(text):\n",
    "        sent=sent.lower()\n",
    "        sent=nfx.remove_special_characters(sent)\n",
    "        sent=nfx.remove_stopwords(sent)\n",
    "#         sent=nfx.remove_shortwords(sent)\n",
    "        text_length.append(len(sent.split()))\n",
    "        cleaned_text.append(sent)\n",
    "    return cleaned_text,text_length\n",
    "Silvia Dal Col10:35\n",
    "import neattext.functions as nfx\n",
    "Tu10:37\n",
    "https://www.kaggle.com/datasets/thedevastator/uncover-global-trends-in-mental-health-disorder\n",
    "Silvia Dal Col10:38\n",
    "import re\n",
    "\n",
    "string_with_numbers = \"I have 3 apples and 2 bananas\"\n",
    "string_without_numbers = re.sub(r'\\d+', '', string_with_numbers)\n",
    "print(string_without_numbers) # \"I have  apples and  bananas\""
   ]
  },
  {
   "cell_type": "code",
   "execution_count": null,
   "metadata": {},
   "outputs": [],
   "source": [
    "from neattext.functions import remove_numbers\n",
    "\n",
    "string_with_numbers = \"I have 3 apples and 2 bananas\"\n",
    "string_without_numbers = remove_numbers(string_with_numbers)\n",
    "print(string_without_numbers) # \"I have apples and bananas\""
   ]
  },
  {
   "cell_type": "code",
   "execution_count": null,
   "metadata": {},
   "outputs": [],
   "source": [
    "import neattext.functions as nfx\n",
    "\n",
    "def clean_text(text):\n",
    "    text_length=[]\n",
    "    cleaned_text=[]\n",
    "    for sent in tqdm(text):\n",
    "        sent=sent.lower()\n",
    "        sent=nfx.remove_special_characters(sent)\n",
    "        sent=nfx.remove_stopwords(sent)\n",
    "#         sent=nfx.remove_shortwords(sent)\n",
    "        text_length.append(len(sent.split()))\n",
    "        cleaned_text.append(sent)\n",
    "    return cleaned_text,text_length"
   ]
  }
 ],
 "metadata": {
  "kernelspec": {
   "display_name": "boolean",
   "language": "python",
   "name": "python3"
  },
  "language_info": {
   "codemirror_mode": {
    "name": "ipython",
    "version": 3
   },
   "file_extension": ".py",
   "mimetype": "text/x-python",
   "name": "python",
   "nbconvert_exporter": "python",
   "pygments_lexer": "ipython3",
   "version": "3.10.9"
  },
  "orig_nbformat": 4
 },
 "nbformat": 4,
 "nbformat_minor": 2
}
